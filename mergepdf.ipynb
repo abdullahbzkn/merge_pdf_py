{
 "cells": [
  {
   "cell_type": "code",
   "execution_count": 1,
   "metadata": {},
   "outputs": [],
   "source": [
    "import PyPDF2\n",
    "\n",
    "def merge_pdf(pdf_list, target_file):\n",
    "    pdf_merger = PyPDF2.PdfMerger()\n",
    "\n",
    "    for pdf in pdf_list:\n",
    "        pdf_merger.append(pdf)\n",
    "\n",
    "    with open(target_file, 'wb') as merged_pdf:\n",
    "        pdf_merger.write(merged_pdf)\n",
    "\n",
    "if __name__ == \"__main__\":\n",
    "\n",
    "    pdf_list = [\"file1.pdf\", \"file2.pdf\", \"file3.pdf\"] #...\n",
    "\n",
    "    target_file = \"target.pdf\"\n",
    "\n",
    "    merge_pdf(pdf_list, target_file)\n"
   ]
  }
 ],
 "metadata": {
  "kernelspec": {
   "display_name": "Python 3",
   "language": "python",
   "name": "python3"
  },
  "language_info": {
   "codemirror_mode": {
    "name": "ipython",
    "version": 3
   },
   "file_extension": ".py",
   "mimetype": "text/x-python",
   "name": "python",
   "nbconvert_exporter": "python",
   "pygments_lexer": "ipython3",
   "version": "3.11.4"
  }
 },
 "nbformat": 4,
 "nbformat_minor": 2
}
